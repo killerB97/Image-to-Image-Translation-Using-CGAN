{
 "cells": [
  {
   "cell_type": "code",
   "execution_count": 1,
   "metadata": {},
   "outputs": [
    {
     "name": "stderr",
     "output_type": "stream",
     "text": [
      "Using TensorFlow backend.\n"
     ]
    }
   ],
   "source": [
    "# from kerasdatasets import mnist\n",
    "from keras.layers import Input, Dense, Reshape, Flatten, Dropout\n",
    "from keras.layers import BatchNormalization, Activation, ZeroPadding2D\n",
    "from keras.layers.advanced_activations import LeakyReLU\n",
    "from keras.layers.convolutional import UpSampling2D, Conv2D, Conv2DTranspose\n",
    "from keras.models import Sequential, Model\n",
    "from keras.optimizers import Adam\n",
    "import matplotlib.pyplot as plt\n",
    "import numpy as np\n",
    "import time\n",
    "import os\n",
    "from PIL import Image\n",
    "\n",
    "# img_rows = 28\n",
    "# img_cols = 28\n",
    "# channels = 1\n",
    "# img_shape = (img_rows, img_cols, channels)\n",
    "# latent_dim = 100\n",
    "batch_size = 128"
   ]
  },
  {
   "cell_type": "code",
   "execution_count": 2,
   "metadata": {},
   "outputs": [
    {
     "name": "stderr",
     "output_type": "stream",
     "text": [
      "/anaconda/envs/py36/lib/python3.6/site-packages/keras/activations.py:115: UserWarning: Do not pass a layer instance (such as LeakyReLU) as the activation argument of another layer. Instead, advanced activation layers should be used just like any other layer in a model.\n",
      "  identifier=identifier.__class__.__name__))\n"
     ]
    }
   ],
   "source": [
    "from keras.optimizers import adam\n",
    "D = Sequential()\n",
    "depth = 64\n",
    "dropout = 0.4\n",
    "# In: 28 x 28 x 1, depth = 1\n",
    "# Out: 14 x 14 x 1, depth=645\n",
    "input_shape = (28, 28, 1)\n",
    "D.add(Conv2D(depth*1, 5, strides=2, input_shape=input_shape,\\\n",
    "padding='same', activation=LeakyReLU(alpha=0.2)))\n",
    "D.add(Dropout(dropout))\n",
    "D.add(Conv2D(depth*2, 5, strides=2, padding='same',\\\n",
    "activation=LeakyReLU(alpha=0.2)))\n",
    "D.add(Dropout(dropout))\n",
    "D.add(Conv2D(depth*4, 5, strides=2, padding='same',\\\n",
    "activation=LeakyReLU(alpha=0.2)))\n",
    "D.add(Dropout(dropout))\n",
    "D.add(Conv2D(depth*8, 5, strides=1, padding='same',\\\n",
    "activation=LeakyReLU(alpha=0.2)))\n",
    "D.add(Dropout(dropout))\n",
    "# Out: 1-dim probability\n",
    "D.add(Flatten())\n",
    "D.add(Dense(1))\n",
    "D.add(Activation('sigmoid'))\n",
    "D.compile(loss='binary_crossentropy', optimizer=adam())\n",
    "# D.summary()"
   ]
  },
  {
   "cell_type": "code",
   "execution_count": 3,
   "metadata": {},
   "outputs": [],
   "source": [
    "G = Sequential()\n",
    "dropout = 0.4\n",
    "depth = 64+64+64+64\n",
    "dim = 7\n",
    "# In: 100\n",
    "# Out: dim x dim x depth\n",
    "G.add(Dense(dim*dim*depth, input_dim=100, activation = 'relu'))\n",
    "G.add(BatchNormalization(momentum=0.9))\n",
    "G.add(Activation('relu'))\n",
    "G.add(Reshape((dim, dim, depth)))\n",
    "G.add(Dropout(dropout))\n",
    "# In: dim x dim x depth\n",
    "# Out: 2*dim x 2*dim x depth/2\n",
    "G.add(UpSampling2D())\n",
    "G.add(Conv2DTranspose(int(depth/2), 5, padding='same'))\n",
    "G.add(BatchNormalization(momentum=0.9))\n",
    "G.add(Activation('relu'))\n",
    "G.add(UpSampling2D())\n",
    "G.add(Conv2DTranspose(int(depth/4), 5, padding='same'))\n",
    "G.add(BatchNormalization(momentum=0.9))\n",
    "G.add(Activation('relu'))\n",
    "G.add(Conv2DTranspose(int(depth/8), 5, padding='same'))\n",
    "G.add(BatchNormalization(momentum=0.9))\n",
    "G.add(Activation('relu'))\n",
    "# Out: 28 x 28 x 1 grayscale image [0.0,1.0] per pix\n",
    "G.add(Conv2DTranspose(1, 5, padding='same'))\n",
    "G.add(Activation('sigmoid'))\n",
    "G.compile(loss='binary_crossentropy', optimizer=adam())\n",
    "# G.summary"
   ]
  },
  {
   "cell_type": "code",
   "execution_count": 4,
   "metadata": {},
   "outputs": [
    {
     "name": "stdout",
     "output_type": "stream",
     "text": [
      "_________________________________________________________________\n",
      "Layer (type)                 Output Shape              Param #   \n",
      "=================================================================\n",
      "input_1 (InputLayer)         (None, 100)               0         \n",
      "_________________________________________________________________\n",
      "sequential_2 (Sequential)    (None, 28, 28, 1)         2394241   \n",
      "_________________________________________________________________\n",
      "sequential_1 (Sequential)    (None, 1)                 4311553   \n",
      "=================================================================\n",
      "Total params: 6,705,794\n",
      "Trainable params: 2,368,705\n",
      "Non-trainable params: 4,337,089\n",
      "_________________________________________________________________\n"
     ]
    }
   ],
   "source": [
    "# gan = Sequential()\n",
    "gan_inp = (Input(shape=(100,)))\n",
    "x = G(gan_inp)\n",
    "gan_output = D(x)\n",
    "gan = Model(inputs = gan_inp,outputs=gan_output)\n",
    "# gan.add(G)\n",
    "# gan.add(D)\n",
    "D.trainable = False\n",
    "gan.compile(loss='binary_crossentropy', optimizer='adam')\n",
    "gan.summary()"
   ]
  },
  {
   "cell_type": "code",
   "execution_count": 5,
   "metadata": {},
   "outputs": [],
   "source": [
    "from keras.datasets import mnist\n",
    "\n",
    "(x_train, y_train), (x_test, y_test) = mnist.load_data()\n",
    "batch_count = x_train.shape[0] / 128"
   ]
  },
  {
   "cell_type": "code",
   "execution_count": 10,
   "metadata": {},
   "outputs": [],
   "source": [
    "for i in range(0,10):\n",
    "    noise= np.random.normal(0,1, [batch_size, 100])\n",
    "    generated_images = G.predict(noise)\n",
    "    image_batch =x_train[np.random.randint(low=0,high=x_train.shape[0],size=batch_size)]\n",
    "    image_batch = image_batch.reshape(128,28,28,1)\n",
    "#     print(generated_images.shape)\n",
    "    X= np.concatenate([image_batch, generated_images])\n",
    "    y_dis=np.zeros(2*batch_size)\n",
    "    y_dis[:batch_size]=0.9\n",
    "    D.trainable=True\n",
    "    D.train_on_batch(X, y_dis)\n",
    "    noise= np.random.normal(0,1, [batch_size, 100])\n",
    "    y_gen = np.ones(batch_size)\n",
    "    D.trainable=False\n",
    "    gan.train_on_batch(noise, y_gen)"
   ]
  },
  {
   "cell_type": "code",
   "execution_count": 12,
   "metadata": {},
   "outputs": [
    {
     "data": {
      "text/plain": [
       "<matplotlib.image.AxesImage at 0x7f74a41de9b0>"
      ]
     },
     "execution_count": 12,
     "metadata": {},
     "output_type": "execute_result"
    },
    {
     "data": {
      "image/png": "[encoded data removed]",
      "text/plain": [
       "<Figure size 432x288 with 1 Axes>"
      ]
     },
     "metadata": {
      "needs_background": "light"
     },
     "output_type": "display_data"
    }
   ],
   "source": [
    "noise= np.random.normal(loc=0, scale=1, size=[100, 100])\n",
    "dim=(10,10)\n",
    "generated_images = G.predict(noise)\n",
    "generated_images = generated_images.reshape(100,28,28)\n",
    "generated_images.shape\n",
    "# plt.figure(figsize=(10,10))\n",
    "# for i in range(generated_images.shape[0]):\n",
    "#     plt.subplot(dim[0], dim[1], i+1)\n",
    "#     plt.imshow(generated_images[i], interpolation='nearest')\n",
    "#     plt.axis('off')\n",
    "# plt.tight_layout()\n",
    "plt.imshow(generated_images[5])\n",
    "# plt.imshow(generated_images)"
   ]
  },
  {
   "cell_type": "code",
   "execution_count": 27,
   "metadata": {},
   "outputs": [
    {
     "ename": "TypeError",
     "evalue": "__call__() missing 1 required positional argument: 'inputs'",
     "output_type": "error",
     "traceback": [
      "\u001b[0;31m---------------------------------------------------------------------------\u001b[0m",
      "\u001b[0;31mTypeError\u001b[0m                                 Traceback (most recent call last)",
      "\u001b[0;32m<ipython-input-27-1bd05cf5b3fa>\u001b[0m in \u001b[0;36m<module>\u001b[0;34m\u001b[0m\n\u001b[1;32m      1\u001b[0m \u001b[0;32mfrom\u001b[0m \u001b[0mkeras\u001b[0m\u001b[0;34m.\u001b[0m\u001b[0mdatasets\u001b[0m \u001b[0;32mimport\u001b[0m \u001b[0mmnist\u001b[0m\u001b[0;34m\u001b[0m\u001b[0;34m\u001b[0m\u001b[0m\n\u001b[0;32m----> 2\u001b[0;31m \u001b[0mgenerator\u001b[0m \u001b[0;34m=\u001b[0m \u001b[0mgenerator\u001b[0m\u001b[0;34m(\u001b[0m\u001b[0;34m)\u001b[0m\u001b[0;34m\u001b[0m\u001b[0;34m\u001b[0m\u001b[0m\n\u001b[0m\u001b[1;32m      3\u001b[0m \u001b[0mbatch_size\u001b[0m \u001b[0;34m=\u001b[0m \u001b[0;36m256\u001b[0m\u001b[0;34m\u001b[0m\u001b[0;34m\u001b[0m\u001b[0m\n\u001b[1;32m      4\u001b[0m \u001b[0;34m(\u001b[0m\u001b[0mx_train\u001b[0m\u001b[0;34m,\u001b[0m \u001b[0my_train\u001b[0m\u001b[0;34m)\u001b[0m\u001b[0;34m,\u001b[0m \u001b[0;34m(\u001b[0m\u001b[0mx_test\u001b[0m\u001b[0;34m,\u001b[0m \u001b[0my_test\u001b[0m\u001b[0;34m)\u001b[0m \u001b[0;34m=\u001b[0m \u001b[0mmnist\u001b[0m\u001b[0;34m.\u001b[0m\u001b[0mload_data\u001b[0m\u001b[0;34m(\u001b[0m\u001b[0;34m)\u001b[0m\u001b[0;34m\u001b[0m\u001b[0;34m\u001b[0m\u001b[0m\n\u001b[1;32m      5\u001b[0m \u001b[0;31m# images_train = x_train[np.random.randint(0,x_train.shape[0], size=batch_size), :, :, :]\u001b[0m\u001b[0;34m\u001b[0m\u001b[0;34m\u001b[0m\u001b[0;34m\u001b[0m\u001b[0m\n",
      "\u001b[0;31mTypeError\u001b[0m: __call__() missing 1 required positional argument: 'inputs'"
     ]
    }
   ],
   "source": [
    "from keras.datasets import mnist\n",
    "generator = generator()\n",
    "batch_size = 256\n",
    "(x_train, y_train), (x_test, y_test) = mnist.load_data()\n",
    "# images_train = x_y\n",
    "noise = np.random.uniform(-1.0, 1.0, size=[batch_size, 100])\n",
    "images_fake = generator.predict(noise)\n",
    "x = np.concatenate((images_train, images_fake))\n",
    "y = np.ones([2*batch_size, 1])\n",
    "y[batch_size:, :] = 0\n",
    "d_loss = discriminator.train_on_batch(x, y)\n",
    "y = np.ones([batch_size, 1])\n",
    "noise = np.random.uniform(-1.0, 1.0, size=[batch_size, 100])\n"
   ]
  },
  {
   "cell_type": "code",
   "execution_count": 5,
   "metadata": {},
   "outputs": [
    {
     "name": "stdout",
     "output_type": "stream",
     "text": [
      "Thu Apr 25 09:54:02 2019       \r\n",
      "+-----------------------------------------------------------------------------+\r\n",
      "| NVIDIA-SMI 410.79       Driver Version: 410.79       CUDA Version: 10.0     |\r\n",
      "|-------------------------------+----------------------+----------------------+\r\n",
      "| GPU  Name        Persistence-M| Bus-Id        Disp.A | Volatile Uncorr. ECC |\r\n",
      "| Fan  Temp  Perf  Pwr:Usage/Cap|         Memory-Usage | GPU-Util  Compute M. |\r\n",
      "|===============================+======================+======================|\r\n",
      "|   0  Tesla K80           On   | 000055EC:00:00.0 Off |                    0 |\r\n",
      "| N/A   45C    P0    70W / 149W |  10877MiB / 11441MiB |      0%      Default |\r\n",
      "+-------------------------------+----------------------+----------------------+\r\n",
      "                                                                               \r\n",
      "+-----------------------------------------------------------------------------+\r\n",
      "| Processes:                                                       GPU Memory |\r\n",
      "|  GPU       PID   Type   Process name                             Usage      |\r\n",
      "|=============================================================================|\r\n",
      "|    0      6507      C   /anaconda/envs/py36/bin/python             10864MiB |\r\n",
      "+-----------------------------------------------------------------------------+\r\n"
     ]
    }
   ],
   "source": [
    "!nvidia-smi"
   ]
  },
  {
   "cell_type": "code",
   "execution_count": 18,
   "metadata": {},
   "outputs": [
    {
     "name": "stdout",
     "output_type": "stream",
     "text": [
      "_________________________________________________________________\n",
      "Layer (type)                 Output Shape              Param #   \n",
      "=================================================================\n",
      "dense_4 (Dense)              (None, 12544)             1266944   \n",
      "_________________________________________________________________\n",
      "batch_normalization_13 (Batc (None, 12544)             50176     \n",
      "_________________________________________________________________\n",
      "activation_16 (Activation)   (None, 12544)             0         \n",
      "_________________________________________________________________\n",
      "reshape_4 (Reshape)          (None, 7, 7, 256)         0         \n",
      "_________________________________________________________________\n",
      "dropout_4 (Dropout)          (None, 7, 7, 256)         0         \n",
      "_________________________________________________________________\n",
      "up_sampling2d_7 (UpSampling2 (None, 14, 14, 256)       0         \n",
      "_________________________________________________________________\n",
      "conv2d_transpose_13 (Conv2DT (None, 14, 14, 128)       819328    \n",
      "_________________________________________________________________\n",
      "batch_normalization_14 (Batc (None, 14, 14, 128)       512       \n",
      "_________________________________________________________________\n",
      "activation_17 (Activation)   (None, 14, 14, 128)       0         \n",
      "_________________________________________________________________\n",
      "up_sampling2d_8 (UpSampling2 (None, 28, 28, 128)       0         \n",
      "_________________________________________________________________\n",
      "conv2d_transpose_14 (Conv2DT (None, 28, 28, 64)        204864    \n",
      "_________________________________________________________________\n",
      "batch_normalization_15 (Batc (None, 28, 28, 64)        256       \n",
      "_________________________________________________________________\n",
      "activation_18 (Activation)   (None, 28, 28, 64)        0         \n",
      "_________________________________________________________________\n",
      "conv2d_transpose_15 (Conv2DT (None, 28, 28, 32)        51232     \n",
      "_________________________________________________________________\n",
      "batch_normalization_16 (Batc (None, 28, 28, 32)        128       \n",
      "_________________________________________________________________\n",
      "activation_19 (Activation)   (None, 28, 28, 32)        0         \n",
      "_________________________________________________________________\n",
      "conv2d_transpose_16 (Conv2DT (None, 28, 28, 1)         801       \n",
      "_________________________________________________________________\n",
      "activation_20 (Activation)   (None, 28, 28, 1)         0         \n",
      "=================================================================\n",
      "Total params: 2,394,241\n",
      "Trainable params: 2,368,705\n",
      "Non-trainable params: 25,536\n",
      "_________________________________________________________________\n"
     ]
    }
   ],
   "source": [
    "from keras.datasets import mnist\n",
    "(x_train, y_train), (x_test, y_test) = mnist.load_data()\n",
    "batch_size = 256\n",
    "x_train.shape[0]\n",
    "# images_train = x_train[np.random.randint(0,x_train.shape[0], size=batch_size), :, :, :]\n",
    "images_train = []\n",
    "nums = np.random.randint(0,x_train.shape[0], size=batch_size)\n",
    "# images_train.append(nums)\n",
    "# images_train = np.array(images_train)\n",
    "\n",
    "for num in nums:\n",
    "    images_train.append(x_train[num])\n",
    "\n",
    "images_train = np.array(images_train)\n",
    "noise = np.random.uniform(-1.0, 1.0, size=[batch_size, 100])\n",
    "# noise.shape\n",
    "gen = generator()\n",
    "images_fake = gen.predict(noise)"
   ]
  },
  {
   "cell_type": "code",
   "execution_count": 58,
   "metadata": {},
   "outputs": [
    {
     "data": {
      "text/plain": [
       "(512, 28, 28, 1)"
      ]
     },
     "execution_count": 58,
     "metadata": {},
     "output_type": "execute_result"
    }
   ],
   "source": [
    "# inp = np.concatenate((images_train, images_fake))\n",
    "\n",
    "images_train = images_train.reshape(256,28,28,1)\n",
    "\n",
    "inp = np.concatenate((images_train, images_fake))\n",
    "target = np.ones([2*batch_size, 1])\n",
    "# target = [batch_size:, :] = 0\n",
    "inp.shape"
   ]
  },
  {
   "cell_type": "code",
   "execution_count": 92,
   "metadata": {},
   "outputs": [
    {
     "name": "stdout",
     "output_type": "stream",
     "text": [
      "Epoch 1/5\n",
      "512/512 [==============================] - 0s 469us/step - loss: 1.0960e-07 - acc: 1.0000\n",
      "Epoch 2/5\n",
      "512/512 [==============================] - 0s 475us/step - loss: 1.0960e-07 - acc: 1.0000\n",
      "Epoch 3/5\n",
      "512/512 [==============================] - 0s 473us/step - loss: 1.0960e-07 - acc: 1.0000\n",
      "Epoch 4/5\n",
      "512/512 [==============================] - 0s 475us/step - loss: 1.0960e-07 - acc: 1.0000\n",
      "Epoch 5/5\n",
      "512/512 [==============================] - 0s 501us/step - loss: 1.0960e-07 - acc: 1.0000\n"
     ]
    },
    {
     "data": {
      "text/plain": [
       "<keras.callbacks.History at 0x7f71cfb9dd68>"
      ]
     },
     "execution_count": 92,
     "metadata": {},
     "output_type": "execute_result"
    }
   ],
   "source": [
    "import keras\n",
    "# disc = discriminator()\n",
    "\n",
    "\n",
    "target [batch_size:, :] = 0\n",
    "# input = np.asarray(input)\n",
    "# disc.compile(loss='binary_crossentropy', optimizer=keras.optimizers.RMSprop(lr=0.0008, clipvalue=1.0, decay=6e-8),\\\n",
    "#             metrics=['accuracy'])\n",
    "# input.shape\n",
    "# for i in range(0,10):\n",
    "disc.fit(inp, target,batch_size = batch_size,epochs = 5)\n"
   ]
  },
  {
   "cell_type": "code",
   "execution_count": 105,
   "metadata": {},
   "outputs": [],
   "source": [
    "newTarget = np.ones([batch_size, 1])\n",
    "for i in range(0,80):\n",
    "#     noise = np.random.uniform(-1.0, 1.0, size=[batch_size, 100])\n",
    "#     AM.fit(noise, newTarget,batch_size = batch_size,epochs = 5)\n",
    "#     disc.fit(inp, target,batch_size = batch_size,epochs = 5)\n",
    "    disc.train_on_batch(inp,target)\n",
    "    AM.train_on_batch(noise,newTarget)"
   ]
  },
  {
   "cell_type": "code",
   "execution_count": 113,
   "metadata": {},
   "outputs": [
    {
     "data": {
      "text/plain": [
       "array([[1.025485e-11]], dtype=float32)"
      ]
     },
     "execution_count": 113,
     "metadata": {},
     "output_type": "execute_result"
    },
    {
     "data": {
      "image/png": "[encoded data removed]",
      "text/plain": [
       "<Figure size 432x288 with 1 Axes>"
      ]
     },
     "metadata": {
      "needs_background": "light"
     },
     "output_type": "display_data"
    }
   ],
   "source": [
    "test = np.expand_dims(noise[1],axis=0)\n",
    "res = gen.predict(test)\n",
    "res = res.reshape(28,28)\n",
    "plt.imshow(res)\n",
    "# disc.predict(res)\n",
    "# inp.shape\n",
    "res = np.expand_dims(res,axis=0)\n",
    "res = res.reshape(1,28,28,1)\n",
    "disc.predict(res)"
   ]
  },
  {
   "cell_type": "code",
   "execution_count": null,
   "metadata": {},
   "outputs": [],
   "source": []
  }
 ],
 "metadata": {
  "kernelspec": {
   "display_name": "Python 3.6 - AzureML",
   "language": "python",
   "name": "python3-azureml"
  },
  "language_info": {
   "codemirror_mode": {
    "name": "ipython",
    "version": 3
   },
   "file_extension": ".py",
   "mimetype": "text/x-python",
   "name": "python",
   "nbconvert_exporter": "python",
   "pygments_lexer": "ipython3",
   "version": "3.6.8"
  }
 },
 "nbformat": 4,
 "nbformat_minor": 2
}
